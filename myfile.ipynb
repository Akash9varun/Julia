{
 "cells": [
  {
   "cell_type": "code",
   "execution_count": 1,
   "id": "3a0b99f4",
   "metadata": {},
   "outputs": [
    {
     "data": {
      "text/plain": [
       "4"
      ]
     },
     "execution_count": 1,
     "metadata": {},
     "output_type": "execute_result"
    }
   ],
   "source": [
    "2+2"
   ]
  },
  {
   "cell_type": "code",
   "execution_count": 2,
   "id": "b0b2f8c2",
   "metadata": {},
   "outputs": [
    {
     "data": {
      "text/plain": [
       "6.0"
      ]
     },
     "execution_count": 2,
     "metadata": {},
     "output_type": "execute_result"
    }
   ],
   "source": [
    "12/2"
   ]
  },
  {
   "cell_type": "code",
   "execution_count": 3,
   "id": "c022f694",
   "metadata": {},
   "outputs": [
    {
     "data": {
      "text/plain": [
       "\"Hello World\""
      ]
     },
     "execution_count": 3,
     "metadata": {},
     "output_type": "execute_result"
    }
   ],
   "source": [
    "\"Hello World\""
   ]
  },
  {
   "cell_type": "code",
   "execution_count": 4,
   "id": "abb06800",
   "metadata": {},
   "outputs": [
    {
     "name": "stdout",
     "output_type": "stream",
     "text": [
      "Hello World"
     ]
    }
   ],
   "source": [
    "print(\"Hello World\")"
   ]
  },
  {
   "cell_type": "markdown",
   "id": "a38c0652",
   "metadata": {},
   "source": [
    "# Julia"
   ]
  },
  {
   "cell_type": "markdown",
   "id": "bfaee00f",
   "metadata": {},
   "source": [
    "## Importing a file for processing\n"
   ]
  },
  {
   "cell_type": "code",
   "execution_count": 7,
   "id": "b74c5c25",
   "metadata": {},
   "outputs": [
    {
     "data": {
      "text/plain": [
       "10"
      ]
     },
     "execution_count": 7,
     "metadata": {},
     "output_type": "execute_result"
    }
   ],
   "source": [
    "loan_amount = 100000\n",
    "interest_rate = .015\n",
    "tenure = 10"
   ]
  },
  {
   "cell_type": "code",
   "execution_count": 8,
   "id": "69ffa1ae",
   "metadata": {},
   "outputs": [
    {
     "data": {
      "text/plain": [
       "1000000"
      ]
     },
     "execution_count": 8,
     "metadata": {},
     "output_type": "execute_result"
    }
   ],
   "source": [
    "loan_amount * tenure"
   ]
  },
  {
   "cell_type": "code",
   "execution_count": 9,
   "id": "af58d7bb",
   "metadata": {},
   "outputs": [
    {
     "data": {
      "text/plain": [
       "\"Hello World\""
      ]
     },
     "execution_count": 9,
     "metadata": {},
     "output_type": "execute_result"
    }
   ],
   "source": [
    "My_first_program = \"Hello World\""
   ]
  },
  {
   "cell_type": "code",
   "execution_count": 10,
   "id": "39732e2f",
   "metadata": {},
   "outputs": [
    {
     "data": {
      "text/plain": [
       "\"Hello World\""
      ]
     },
     "execution_count": 10,
     "metadata": {},
     "output_type": "execute_result"
    }
   ],
   "source": [
    "My_first_program"
   ]
  },
  {
   "cell_type": "code",
   "execution_count": 11,
   "id": "1e67fb7d",
   "metadata": {},
   "outputs": [
    {
     "data": {
      "text/plain": [
       "\"Avengers\""
      ]
     },
     "execution_count": 11,
     "metadata": {},
     "output_type": "execute_result"
    }
   ],
   "source": [
    "movie_name = \"Avengers\""
   ]
  },
  {
   "cell_type": "code",
   "execution_count": 18,
   "id": "2909540b",
   "metadata": {},
   "outputs": [
    {
     "data": {
      "text/plain": [
       "\"Hello WorldAvengers\""
      ]
     },
     "execution_count": 18,
     "metadata": {},
     "output_type": "execute_result"
    }
   ],
   "source": [
    "My_first_program * movie_name"
   ]
  },
  {
   "cell_type": "code",
   "execution_count": 19,
   "id": "fc4ec072",
   "metadata": {},
   "outputs": [
    {
     "name": "stdout",
     "output_type": "stream",
     "text": [
      "Hello World"
     ]
    }
   ],
   "source": [
    "print(\"Hello World\")"
   ]
  },
  {
   "cell_type": "code",
   "execution_count": 21,
   "id": "a4ff8a2b",
   "metadata": {},
   "outputs": [
    {
     "data": {
      "text/plain": [
       "String"
      ]
     },
     "execution_count": 21,
     "metadata": {},
     "output_type": "execute_result"
    }
   ],
   "source": [
    "typeof(My_first_program)"
   ]
  },
  {
   "cell_type": "code",
   "execution_count": 23,
   "id": "da0a13cd",
   "metadata": {},
   "outputs": [
    {
     "data": {
      "text/plain": [
       "Float64"
      ]
     },
     "execution_count": 23,
     "metadata": {},
     "output_type": "execute_result"
    }
   ],
   "source": [
    "typeof(interest_rate)"
   ]
  },
  {
   "cell_type": "markdown",
   "id": "e1ede172",
   "metadata": {},
   "source": [
    "# Arithmetic Operators"
   ]
  },
  {
   "cell_type": "code",
   "execution_count": 24,
   "id": "a82ad4c3",
   "metadata": {},
   "outputs": [
    {
     "data": {
      "text/plain": [
       "-2.0"
      ]
     },
     "execution_count": 24,
     "metadata": {},
     "output_type": "execute_result"
    }
   ],
   "source": [
    "2 + 5 -6/2 * 3"
   ]
  },
  {
   "cell_type": "code",
   "execution_count": 25,
   "id": "83162a5e",
   "metadata": {},
   "outputs": [
    {
     "data": {
      "text/plain": [
       "-2.0"
      ]
     },
     "execution_count": 25,
     "metadata": {},
     "output_type": "execute_result"
    }
   ],
   "source": [
    "(2 + 5) - (6/2) * 3"
   ]
  },
  {
   "cell_type": "code",
   "execution_count": 26,
   "id": "412cd468",
   "metadata": {},
   "outputs": [],
   "source": [
    "# / * + -"
   ]
  },
  {
   "cell_type": "code",
   "execution_count": 27,
   "id": "e9965a1f",
   "metadata": {},
   "outputs": [
    {
     "data": {
      "text/plain": [
       "2.0"
      ]
     },
     "execution_count": 27,
     "metadata": {},
     "output_type": "execute_result"
    }
   ],
   "source": [
    "2 * 3 /3"
   ]
  },
  {
   "cell_type": "code",
   "execution_count": 28,
   "id": "49316b58",
   "metadata": {},
   "outputs": [
    {
     "data": {
      "text/plain": [
       "9.0"
      ]
     },
     "execution_count": 28,
     "metadata": {},
     "output_type": "execute_result"
    }
   ],
   "source": [
    "6 / 2 * 3"
   ]
  },
  {
   "cell_type": "markdown",
   "id": "66210675",
   "metadata": {},
   "source": [
    "# Comment"
   ]
  },
  {
   "cell_type": "code",
   "execution_count": 29,
   "id": "134da880",
   "metadata": {},
   "outputs": [
    {
     "data": {
      "text/plain": [
       "-2.0"
      ]
     },
     "execution_count": 29,
     "metadata": {},
     "output_type": "execute_result"
    }
   ],
   "source": [
    "# What is the operator precedence over here?\n",
    "2 + 5 -6/2 * 3"
   ]
  },
  {
   "cell_type": "markdown",
   "id": "9285e0fc",
   "metadata": {},
   "source": [
    "# Variable Names"
   ]
  },
  {
   "cell_type": "code",
   "execution_count": 30,
   "id": "7ee2e7dd",
   "metadata": {},
   "outputs": [
    {
     "data": {
      "text/plain": [
       "\" My name is Varun\""
      ]
     },
     "execution_count": 30,
     "metadata": {},
     "output_type": "execute_result"
    }
   ],
   "source": [
    "name = \" My name is Varun\""
   ]
  },
  {
   "cell_type": "code",
   "execution_count": 31,
   "id": "4aa3a7e2",
   "metadata": {},
   "outputs": [
    {
     "ename": "LoadError",
     "evalue": "syntax: \"5\" is not a valid function argument name around In[31]:1",
     "output_type": "error",
     "traceback": [
      "syntax: \"5\" is not a valid function argument name around In[31]:1",
      "",
      "Stacktrace:",
      " [1] top-level scope",
      "   @ In[31]:1"
     ]
    }
   ],
   "source": [
    "5names = \" This Variable contains 5 different names\""
   ]
  },
  {
   "cell_type": "code",
   "execution_count": 32,
   "id": "142a587f",
   "metadata": {},
   "outputs": [
    {
     "data": {
      "text/plain": [
       "\" This Variable contains 5 different names\""
      ]
     },
     "execution_count": 32,
     "metadata": {},
     "output_type": "execute_result"
    }
   ],
   "source": [
    "names5 = \" This Variable contains 5 different names\""
   ]
  },
  {
   "cell_type": "code",
   "execution_count": 33,
   "id": "504892fa",
   "metadata": {},
   "outputs": [
    {
     "ename": "LoadError",
     "evalue": "syntax: extra token \"@\" after end of expression",
     "output_type": "error",
     "traceback": [
      "syntax: extra token \"@\" after end of expression",
      "",
      "Stacktrace:",
      " [1] top-level scope",
      "   @ In[33]:1"
     ]
    }
   ],
   "source": [
    "place@ = \"This is India\""
   ]
  },
  {
   "cell_type": "code",
   "execution_count": 40,
   "id": "c523f266",
   "metadata": {},
   "outputs": [
    {
     "ename": "LoadError",
     "evalue": "syntax: unexpected \"=\"",
     "output_type": "error",
     "traceback": [
      "syntax: unexpected \"=\"",
      "",
      "Stacktrace:",
      " [1] top-level scope",
      "   @ In[40]:1"
     ]
    }
   ],
   "source": [
    "quote = \" This is a beautiful day\" #green colour are keywords"
   ]
  },
  {
   "cell_type": "markdown",
   "id": "302291b2",
   "metadata": {},
   "source": [
    "# Arrays "
   ]
  },
  {
   "cell_type": "code",
   "execution_count": 42,
   "id": "bf2e705d",
   "metadata": {},
   "outputs": [
    {
     "data": {
      "text/plain": [
       "5-element Vector{Int64}:\n",
       " 1\n",
       " 2\n",
       " 3\n",
       " 4\n",
       " 5"
      ]
     },
     "execution_count": 42,
     "metadata": {},
     "output_type": "execute_result"
    }
   ],
   "source": [
    "a1 = [1,2,3,4,5]"
   ]
  },
  {
   "cell_type": "code",
   "execution_count": 43,
   "id": "49e2cc36",
   "metadata": {},
   "outputs": [
    {
     "data": {
      "text/plain": [
       "5-element Vector{Float64}:\n",
       " 1.0\n",
       " 2.0\n",
       " 3.0\n",
       " 4.0\n",
       " 5.0"
      ]
     },
     "execution_count": 43,
     "metadata": {},
     "output_type": "execute_result"
    }
   ],
   "source": [
    "a2 = [1,2.0,3,4,5]"
   ]
  },
  {
   "cell_type": "code",
   "execution_count": 44,
   "id": "b5ce8486",
   "metadata": {},
   "outputs": [
    {
     "data": {
      "text/plain": [
       "3-element Vector{String}:\n",
       " \"I\"\n",
       " \"Love\"\n",
       " \"Cricket\""
      ]
     },
     "execution_count": 44,
     "metadata": {},
     "output_type": "execute_result"
    }
   ],
   "source": [
    "s1 = [\"I\",\"Love\",\"Cricket\"]"
   ]
  },
  {
   "cell_type": "code",
   "execution_count": 46,
   "id": "50af7ed9",
   "metadata": {},
   "outputs": [
    {
     "data": {
      "text/plain": [
       "3-element Vector{Function}:\n",
       " print (generic function with 31 methods)\n",
       " println (generic function with 3 methods)\n",
       " printstyled (generic function with 2 methods)"
      ]
     },
     "execution_count": 46,
     "metadata": {},
     "output_type": "execute_result"
    }
   ],
   "source": [
    "f1 = [print,println,printstyled]"
   ]
  },
  {
   "cell_type": "code",
   "execution_count": 47,
   "id": "1309ec3c",
   "metadata": {},
   "outputs": [
    {
     "data": {
      "text/plain": [
       "3-element Vector{Any}:\n",
       " 1\n",
       " 2.0\n",
       "  \"Julia\""
      ]
     },
     "execution_count": 47,
     "metadata": {},
     "output_type": "execute_result"
    }
   ],
   "source": [
    "a3 = [1,2.0,\"Julia\"]"
   ]
  },
  {
   "cell_type": "code",
   "execution_count": 48,
   "id": "8f42a092",
   "metadata": {},
   "outputs": [
    {
     "data": {
      "text/plain": [
       "5-element Vector{Int64}:\n",
       " 1\n",
       " 2\n",
       " 3\n",
       " 4\n",
       " 5"
      ]
     },
     "execution_count": 48,
     "metadata": {},
     "output_type": "execute_result"
    }
   ],
   "source": [
    "type_int = Int64[1,2,3,4,5]"
   ]
  },
  {
   "cell_type": "code",
   "execution_count": 49,
   "id": "14d28cec",
   "metadata": {},
   "outputs": [
    {
     "data": {
      "text/plain": [
       "5-element Vector{Float64}:\n",
       " 1.0\n",
       " 2.0\n",
       " 3.0\n",
       " 4.0\n",
       " 5.0"
      ]
     },
     "execution_count": 49,
     "metadata": {},
     "output_type": "execute_result"
    }
   ],
   "source": [
    "type_float = Float64[1,2,3,4,5]"
   ]
  },
  {
   "cell_type": "code",
   "execution_count": 50,
   "id": "775e311f",
   "metadata": {},
   "outputs": [
    {
     "data": {
      "text/plain": [
       "3-element Vector{String}:\n",
       " \"I\"\n",
       " \"Love\"\n",
       " \"Cricket\""
      ]
     },
     "execution_count": 50,
     "metadata": {},
     "output_type": "execute_result"
    }
   ],
   "source": [
    "type_string = String[\"I\",\"Love\",\"Cricket\"]"
   ]
  },
  {
   "cell_type": "code",
   "execution_count": 51,
   "id": "0c28fd89",
   "metadata": {},
   "outputs": [
    {
     "data": {
      "text/plain": [
       "2×4 Matrix{Int64}:\n",
       " 1  2  3  4\n",
       " 5  6  7  8"
      ]
     },
     "execution_count": 51,
     "metadata": {},
     "output_type": "execute_result"
    }
   ],
   "source": [
    "array_2d = [1 2 3 4;5 6 7 8]"
   ]
  },
  {
   "cell_type": "code",
   "execution_count": 52,
   "id": "c2d7825b",
   "metadata": {},
   "outputs": [
    {
     "data": {
      "text/plain": [
       "1×5 Matrix{Int64}:\n",
       " 1  2  3  4  5"
      ]
     },
     "execution_count": 52,
     "metadata": {},
     "output_type": "execute_result"
    }
   ],
   "source": [
    "vector_1 = [1 2 3 4 5]"
   ]
  },
  {
   "cell_type": "code",
   "execution_count": 55,
   "id": "98c2b9b3",
   "metadata": {},
   "outputs": [
    {
     "data": {
      "text/plain": [
       "5-element Vector{Float64}:\n",
       " 0.3219836174520694\n",
       " 0.8446119226555052\n",
       " 0.4961835630880186\n",
       " 0.8983996784754397\n",
       " 0.8678237463458824"
      ]
     },
     "execution_count": 55,
     "metadata": {},
     "output_type": "execute_result"
    }
   ],
   "source": [
    "array_rand = rand(5)"
   ]
  },
  {
   "cell_type": "code",
   "execution_count": 57,
   "id": "868266a6",
   "metadata": {},
   "outputs": [
    {
     "data": {
      "text/plain": [
       "3×3 Matrix{Float64}:\n",
       " 0.491      0.499617  0.691824\n",
       " 0.773017   0.14602   0.710795\n",
       " 0.0784157  0.545675  0.260009"
      ]
     },
     "execution_count": 57,
     "metadata": {},
     "output_type": "execute_result"
    }
   ],
   "source": [
    "array_rand2 = rand(3,3)"
   ]
  },
  {
   "cell_type": "code",
   "execution_count": 60,
   "id": "40e9503a",
   "metadata": {},
   "outputs": [],
   "source": [
    "using Pkg"
   ]
  },
  {
   "cell_type": "code",
   "execution_count": 64,
   "id": "628380f3",
   "metadata": {},
   "outputs": [
    {
     "name": "stderr",
     "output_type": "stream",
     "text": [
      "\u001b[32m\u001b[1m   Resolving\u001b[22m\u001b[39m package versions...\n",
      "\u001b[32m\u001b[1m   Installed\u001b[22m\u001b[39m NBInclude ─ v2.3.0\n",
      "\u001b[32m\u001b[1m    Updating\u001b[22m\u001b[39m `~/.julia/environments/v1.8/Project.toml`\n",
      " \u001b[90m [0db19996] \u001b[39m\u001b[92m+ NBInclude v2.3.0\u001b[39m\n",
      "\u001b[32m\u001b[1m    Updating\u001b[22m\u001b[39m `~/.julia/environments/v1.8/Manifest.toml`\n",
      " \u001b[90m [0db19996] \u001b[39m\u001b[92m+ NBInclude v2.3.0\u001b[39m\n",
      "\u001b[32m\u001b[1mPrecompiling\u001b[22m\u001b[39m project...\n",
      "\u001b[32m  ✓ \u001b[39mNBInclude\n",
      "  1 dependency successfully precompiled in 1 seconds. 173 already precompiled. 3 skipped during auto due to previous errors.\n"
     ]
    }
   ],
   "source": [
    "Pkg.add(\"NBInclude\")"
   ]
  },
  {
   "cell_type": "code",
   "execution_count": 65,
   "id": "5e27609f",
   "metadata": {},
   "outputs": [
    {
     "ename": "LoadError",
     "evalue": "UndefVarError: nbexport not defined",
     "output_type": "error",
     "traceback": [
      "UndefVarError: nbexport not defined",
      "",
      "Stacktrace:",
      " [1] top-level scope",
      "   @ In[65]:1"
     ]
    }
   ],
   "source": [
    "nbexport(\"myfile.jl\", \"myfile.ipynb\")"
   ]
  },
  {
   "cell_type": "code",
   "execution_count": 68,
   "id": "147dcccc",
   "metadata": {},
   "outputs": [],
   "source": [
    "nbexport(\"myfile.jl\", \"myfile.ipynb\")"
   ]
  },
  {
   "cell_type": "code",
   "execution_count": null,
   "id": "adf97c6c",
   "metadata": {},
   "outputs": [],
   "source": []
  }
 ],
 "metadata": {
  "kernelspec": {
   "display_name": "Julia 1.8.5",
   "language": "julia",
   "name": "julia-1.8"
  },
  "language_info": {
   "file_extension": ".jl",
   "mimetype": "application/julia",
   "name": "julia",
   "version": "1.8.5"
  }
 },
 "nbformat": 4,
 "nbformat_minor": 5
}
