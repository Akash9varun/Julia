{
 "cells": [
  {
   "cell_type": "markdown",
   "id": "f8021fb0",
   "metadata": {},
   "source": [
    "# Ranges"
   ]
  },
  {
   "cell_type": "code",
   "execution_count": 2,
   "id": "68b7c941",
   "metadata": {},
   "outputs": [
    {
     "data": {
      "text/plain": [
       "5-element Vector{Int64}:\n",
       " 1\n",
       " 2\n",
       " 3\n",
       " 4\n",
       " 5"
      ]
     },
     "execution_count": 2,
     "metadata": {},
     "output_type": "execute_result"
    }
   ],
   "source": [
    "collect(1:5)"
   ]
  },
  {
   "cell_type": "code",
   "execution_count": 3,
   "id": "49a78354",
   "metadata": {},
   "outputs": [
    {
     "data": {
      "text/plain": [
       "5-element Vector{Float64}:\n",
       " 1.5\n",
       " 2.5\n",
       " 3.5\n",
       " 4.5\n",
       " 5.5"
      ]
     },
     "execution_count": 3,
     "metadata": {},
     "output_type": "execute_result"
    }
   ],
   "source": [
    "collect(1.5:5.5)"
   ]
  },
  {
   "cell_type": "code",
   "execution_count": 4,
   "id": "4f69fa65",
   "metadata": {},
   "outputs": [
    {
     "data": {
      "text/plain": [
       "9-element Vector{Float64}:\n",
       " 1.5\n",
       " 2.0\n",
       " 2.5\n",
       " 3.0\n",
       " 3.5\n",
       " 4.0\n",
       " 4.5\n",
       " 5.0\n",
       " 5.5"
      ]
     },
     "execution_count": 4,
     "metadata": {},
     "output_type": "execute_result"
    }
   ],
   "source": [
    "collect(1.5:.5:5.5)"
   ]
  },
  {
   "cell_type": "code",
   "execution_count": 6,
   "id": "fe07cc6e",
   "metadata": {},
   "outputs": [
    {
     "data": {
      "text/plain": [
       "6-element Vector{Int64}:\n",
       "   0\n",
       "  20\n",
       "  40\n",
       "  60\n",
       "  80\n",
       " 100"
      ]
     },
     "execution_count": 6,
     "metadata": {},
     "output_type": "execute_result"
    }
   ],
   "source": [
    "collect(0:20:100)"
   ]
  },
  {
   "cell_type": "code",
   "execution_count": 8,
   "id": "79ee5b23",
   "metadata": {},
   "outputs": [
    {
     "data": {
      "text/plain": [
       "6-element Vector{Int64}:\n",
       " 100\n",
       "  80\n",
       "  60\n",
       "  40\n",
       "  20\n",
       "   0"
      ]
     },
     "execution_count": 8,
     "metadata": {},
     "output_type": "execute_result"
    }
   ],
   "source": [
    "collect(100:-20:0) #reversing the array"
   ]
  },
  {
   "cell_type": "code",
   "execution_count": 11,
   "id": "b58063d5",
   "metadata": {},
   "outputs": [
    {
     "data": {
      "text/plain": [
       "6-element Vector{Int64}:\n",
       " 100\n",
       "  80\n",
       "  60\n",
       "  40\n",
       "  20\n",
       "   0"
      ]
     },
     "execution_count": 11,
     "metadata": {},
     "output_type": "execute_result"
    }
   ],
   "source": [
    "c1 = collect(100:-20:0)"
   ]
  },
  {
   "cell_type": "code",
   "execution_count": 12,
   "id": "20960cd0",
   "metadata": {},
   "outputs": [
    {
     "data": {
      "text/plain": [
       "6-element Vector{Int64}:\n",
       " 100\n",
       "  80\n",
       "  60\n",
       "  40\n",
       "  20\n",
       "   0"
      ]
     },
     "execution_count": 12,
     "metadata": {},
     "output_type": "execute_result"
    }
   ],
   "source": [
    "c1"
   ]
  },
  {
   "cell_type": "code",
   "execution_count": 13,
   "id": "8dd5913c",
   "metadata": {},
   "outputs": [
    {
     "data": {
      "text/plain": [
       "60"
      ]
     },
     "execution_count": 13,
     "metadata": {},
     "output_type": "execute_result"
    }
   ],
   "source": [
    "c1[3]"
   ]
  },
  {
   "cell_type": "code",
   "execution_count": 14,
   "id": "c6fcc31d",
   "metadata": {},
   "outputs": [
    {
     "data": {
      "text/plain": [
       "20"
      ]
     },
     "execution_count": 14,
     "metadata": {},
     "output_type": "execute_result"
    }
   ],
   "source": [
    "c1[5]"
   ]
  },
  {
   "cell_type": "code",
   "execution_count": 16,
   "id": "f96394f1",
   "metadata": {},
   "outputs": [
    {
     "data": {
      "text/plain": [
       "0"
      ]
     },
     "execution_count": 16,
     "metadata": {},
     "output_type": "execute_result"
    }
   ],
   "source": [
    "c1[end] #last element"
   ]
  },
  {
   "cell_type": "code",
   "execution_count": 17,
   "id": "c14bb9df",
   "metadata": {},
   "outputs": [
    {
     "data": {
      "text/plain": [
       "20"
      ]
     },
     "execution_count": 17,
     "metadata": {},
     "output_type": "execute_result"
    }
   ],
   "source": [
    "c1[end-1]"
   ]
  },
  {
   "cell_type": "code",
   "execution_count": 18,
   "id": "777ba641",
   "metadata": {},
   "outputs": [
    {
     "data": {
      "text/plain": [
       "4-element Vector{Int64}:\n",
       " 80\n",
       " 60\n",
       " 40\n",
       " 20"
      ]
     },
     "execution_count": 18,
     "metadata": {},
     "output_type": "execute_result"
    }
   ],
   "source": [
    "c1[2:5] #access range"
   ]
  },
  {
   "cell_type": "code",
   "execution_count": 19,
   "id": "d4536b42",
   "metadata": {},
   "outputs": [
    {
     "data": {
      "text/plain": [
       "4-element Vector{Int64}:\n",
       " 80\n",
       " 60\n",
       " 40\n",
       " 20"
      ]
     },
     "execution_count": 19,
     "metadata": {},
     "output_type": "execute_result"
    }
   ],
   "source": [
    "c1[[2,3,4,5]] # access specific elements"
   ]
  },
  {
   "cell_type": "code",
   "execution_count": 20,
   "id": "d3c1974b",
   "metadata": {},
   "outputs": [
    {
     "data": {
      "text/plain": [
       "5-element Vector{Int64}:\n",
       " 80\n",
       " 60\n",
       " 40\n",
       " 20\n",
       "  0"
      ]
     },
     "execution_count": 20,
     "metadata": {},
     "output_type": "execute_result"
    }
   ],
   "source": [
    "c1[2:end]"
   ]
  },
  {
   "cell_type": "markdown",
   "id": "d7a4dde2",
   "metadata": {},
   "source": [
    "# Tuples"
   ]
  },
  {
   "cell_type": "code",
   "execution_count": 21,
   "id": "24b7f036",
   "metadata": {},
   "outputs": [
    {
     "data": {
      "text/plain": [
       "(1, 2, 3, 4, 5)"
      ]
     },
     "execution_count": 21,
     "metadata": {},
     "output_type": "execute_result"
    }
   ],
   "source": [
    "a1 = [1,2,3,4,5]\n",
    "t1 = (1,2,3,4,5)"
   ]
  },
  {
   "cell_type": "code",
   "execution_count": 22,
   "id": "8cec891a",
   "metadata": {},
   "outputs": [
    {
     "data": {
      "text/plain": [
       "5-element Vector{Int64}:\n",
       " 1\n",
       " 2\n",
       " 3\n",
       " 4\n",
       " 5"
      ]
     },
     "execution_count": 22,
     "metadata": {},
     "output_type": "execute_result"
    }
   ],
   "source": [
    "a1"
   ]
  },
  {
   "cell_type": "code",
   "execution_count": 23,
   "id": "98fb49eb",
   "metadata": {},
   "outputs": [
    {
     "data": {
      "text/plain": [
       "6"
      ]
     },
     "execution_count": 23,
     "metadata": {},
     "output_type": "execute_result"
    }
   ],
   "source": [
    "a1[1]=6"
   ]
  },
  {
   "cell_type": "code",
   "execution_count": 24,
   "id": "8634561f",
   "metadata": {},
   "outputs": [
    {
     "data": {
      "text/plain": [
       "5-element Vector{Int64}:\n",
       " 6\n",
       " 2\n",
       " 3\n",
       " 4\n",
       " 5"
      ]
     },
     "execution_count": 24,
     "metadata": {},
     "output_type": "execute_result"
    }
   ],
   "source": [
    "a1"
   ]
  },
  {
   "cell_type": "code",
   "execution_count": 26,
   "id": "240b4d28",
   "metadata": {},
   "outputs": [
    {
     "ename": "LoadError",
     "evalue": "MethodError: no method matching setindex!(::NTuple{5, Int64}, ::Int64, ::Int64)",
     "output_type": "error",
     "traceback": [
      "MethodError: no method matching setindex!(::NTuple{5, Int64}, ::Int64, ::Int64)",
      "",
      "Stacktrace:",
      " [1] top-level scope",
      "   @ In[26]:1"
     ]
    }
   ],
   "source": [
    "t1[1]=6 #as tuples are immutable, you can't reassign a new value to a tuple"
   ]
  },
  {
   "cell_type": "code",
   "execution_count": 27,
   "id": "5e807859",
   "metadata": {},
   "outputs": [
    {
     "data": {
      "text/plain": [
       "(1, 2, 3)"
      ]
     },
     "execution_count": 27,
     "metadata": {},
     "output_type": "execute_result"
    }
   ],
   "source": [
    "t1[1:3]"
   ]
  },
  {
   "cell_type": "code",
   "execution_count": 28,
   "id": "fca1e51e",
   "metadata": {},
   "outputs": [
    {
     "data": {
      "text/plain": [
       "(3, 4, 5)"
      ]
     },
     "execution_count": 28,
     "metadata": {},
     "output_type": "execute_result"
    }
   ],
   "source": [
    "t1[3:end]"
   ]
  },
  {
   "cell_type": "code",
   "execution_count": 30,
   "id": "035f19cf",
   "metadata": {},
   "outputs": [
    {
     "data": {
      "text/plain": [
       "((1, 3), (2, 5))"
      ]
     },
     "execution_count": 30,
     "metadata": {},
     "output_type": "execute_result"
    }
   ],
   "source": [
    "t2 = ((1,3),(2,5)) #2d tuple"
   ]
  },
  {
   "cell_type": "code",
   "execution_count": 31,
   "id": "5de55e66",
   "metadata": {},
   "outputs": [
    {
     "data": {
      "text/plain": [
       "(1, 3)"
      ]
     },
     "execution_count": 31,
     "metadata": {},
     "output_type": "execute_result"
    }
   ],
   "source": [
    "t2[1]"
   ]
  },
  {
   "cell_type": "code",
   "execution_count": 32,
   "id": "3bf5f7cf",
   "metadata": {},
   "outputs": [
    {
     "data": {
      "text/plain": [
       "3"
      ]
     },
     "execution_count": 32,
     "metadata": {},
     "output_type": "execute_result"
    }
   ],
   "source": [
    "t2[1][2]"
   ]
  },
  {
   "cell_type": "code",
   "execution_count": 35,
   "id": "084f8bd3",
   "metadata": {},
   "outputs": [
    {
     "data": {
      "text/plain": [
       "(Science = (90, 100), Maths = (95, 100), English = (95, 100))"
      ]
     },
     "execution_count": 35,
     "metadata": {},
     "output_type": "execute_result"
    }
   ],
   "source": [
    "marks = (Science = (90,100), Maths = (95,100), English = (95,100))"
   ]
  },
  {
   "cell_type": "code",
   "execution_count": 36,
   "id": "324d4d67",
   "metadata": {},
   "outputs": [
    {
     "data": {
      "text/plain": [
       "(90, 100)"
      ]
     },
     "execution_count": 36,
     "metadata": {},
     "output_type": "execute_result"
    }
   ],
   "source": [
    "marks.Science"
   ]
  },
  {
   "cell_type": "code",
   "execution_count": 37,
   "id": "f3a19bfd",
   "metadata": {},
   "outputs": [
    {
     "data": {
      "text/plain": [
       "(95, 100)"
      ]
     },
     "execution_count": 37,
     "metadata": {},
     "output_type": "execute_result"
    }
   ],
   "source": [
    "marks.Maths"
   ]
  },
  {
   "cell_type": "code",
   "execution_count": 38,
   "id": "3870f847",
   "metadata": {},
   "outputs": [
    {
     "data": {
      "text/plain": [
       "(History = (80, 100), Sports = (95, 100))"
      ]
     },
     "execution_count": 38,
     "metadata": {},
     "output_type": "execute_result"
    }
   ],
   "source": [
    "marks2 = (History = (80,100), Sports = (95,100))"
   ]
  },
  {
   "cell_type": "code",
   "execution_count": 39,
   "id": "0f761ca5",
   "metadata": {},
   "outputs": [
    {
     "data": {
      "text/plain": [
       "(Science = (90, 100), Maths = (95, 100), English = (95, 100), History = (80, 100), Sports = (95, 100))"
      ]
     },
     "execution_count": 39,
     "metadata": {},
     "output_type": "execute_result"
    }
   ],
   "source": [
    "merge(marks,marks2)"
   ]
  },
  {
   "cell_type": "markdown",
   "id": "cd28e2b3",
   "metadata": {},
   "source": [
    "# Dictionary"
   ]
  },
  {
   "cell_type": "code",
   "execution_count": 40,
   "id": "9e8b1028",
   "metadata": {},
   "outputs": [
    {
     "data": {
      "text/plain": [
       "Dict{String, Int64} with 3 entries:\n",
       "  \"Car3\" => 300000\n",
       "  \"Car2\" => 200000\n",
       "  \"Car1\" => 100000"
      ]
     },
     "execution_count": 40,
     "metadata": {},
     "output_type": "execute_result"
    }
   ],
   "source": [
    "Cars = Dict(\"Car1\" => 100000, \"Car2\" => 200000, \"Car3\" => 300000)"
   ]
  },
  {
   "cell_type": "code",
   "execution_count": 43,
   "id": "c38ccfe4",
   "metadata": {},
   "outputs": [
    {
     "data": {
      "text/plain": [
       "100000"
      ]
     },
     "execution_count": 43,
     "metadata": {},
     "output_type": "execute_result"
    }
   ],
   "source": [
    "Cars[\"Car1\"] # much faster in big program using dict."
   ]
  },
  {
   "cell_type": "code",
   "execution_count": 48,
   "id": "ab539f3c",
   "metadata": {},
   "outputs": [
    {
     "data": {
      "text/plain": [
       "Dict{Symbol, Int64} with 3 entries:\n",
       "  :Car3 => 300000\n",
       "  :Car1 => 100000\n",
       "  :Car2 => 200000"
      ]
     },
     "execution_count": 48,
     "metadata": {},
     "output_type": "execute_result"
    }
   ],
   "source": [
    "Cars2 = Dict(:Car1 => 100000,:Car2 => 200000,:Car3 => 300000)"
   ]
  },
  {
   "cell_type": "code",
   "execution_count": 49,
   "id": "1ea0268f",
   "metadata": {},
   "outputs": [
    {
     "data": {
      "text/plain": [
       "100000"
      ]
     },
     "execution_count": 49,
     "metadata": {},
     "output_type": "execute_result"
    }
   ],
   "source": [
    "Cars2[:Car1]"
   ]
  },
  {
   "cell_type": "code",
   "execution_count": 51,
   "id": "364f4a72",
   "metadata": {},
   "outputs": [
    {
     "data": {
      "text/plain": [
       "true"
      ]
     },
     "execution_count": 51,
     "metadata": {},
     "output_type": "execute_result"
    }
   ],
   "source": [
    "haskey(Cars2, :Car1)"
   ]
  },
  {
   "cell_type": "code",
   "execution_count": 55,
   "id": "db23e079",
   "metadata": {},
   "outputs": [
    {
     "data": {
      "text/plain": [
       "false"
      ]
     },
     "execution_count": 55,
     "metadata": {},
     "output_type": "execute_result"
    }
   ],
   "source": [
    "haskey(Cars2, :Car4)"
   ]
  },
  {
   "cell_type": "code",
   "execution_count": 53,
   "id": "d1ea5abd",
   "metadata": {},
   "outputs": [
    {
     "data": {
      "text/plain": [
       "Dict{Symbol, Int64} with 2 entries:\n",
       "  :Car3 => 300000\n",
       "  :Car2 => 200000"
      ]
     },
     "execution_count": 53,
     "metadata": {},
     "output_type": "execute_result"
    }
   ],
   "source": [
    "delete!(Cars2,:Car1)"
   ]
  },
  {
   "cell_type": "code",
   "execution_count": 56,
   "id": "6d18a147",
   "metadata": {},
   "outputs": [
    {
     "data": {
      "text/plain": [
       "false"
      ]
     },
     "execution_count": 56,
     "metadata": {},
     "output_type": "execute_result"
    }
   ],
   "source": [
    "haskey(Cars2, :Car1)"
   ]
  },
  {
   "cell_type": "code",
   "execution_count": 57,
   "id": "19856352",
   "metadata": {},
   "outputs": [
    {
     "data": {
      "text/plain": [
       "KeySet for a Dict{String, Int64} with 3 entries. Keys:\n",
       "  \"Car3\"\n",
       "  \"Car2\"\n",
       "  \"Car1\""
      ]
     },
     "execution_count": 57,
     "metadata": {},
     "output_type": "execute_result"
    }
   ],
   "source": [
    "keys(Cars)"
   ]
  },
  {
   "cell_type": "code",
   "execution_count": 58,
   "id": "ada76d0a",
   "metadata": {},
   "outputs": [
    {
     "data": {
      "text/plain": [
       "ValueIterator for a Dict{String, Int64} with 3 entries. Values:\n",
       "  300000\n",
       "  200000\n",
       "  100000"
      ]
     },
     "execution_count": 58,
     "metadata": {},
     "output_type": "execute_result"
    }
   ],
   "source": [
    "values(Cars)"
   ]
  },
  {
   "cell_type": "code",
   "execution_count": 59,
   "id": "e895d353",
   "metadata": {},
   "outputs": [
    {
     "data": {
      "text/plain": [
       "Dict{Any, Int64} with 5 entries:\n",
       "  :Car3  => 300000\n",
       "  \"Car3\" => 300000\n",
       "  \"Car2\" => 200000\n",
       "  \"Car1\" => 100000\n",
       "  :Car2  => 200000"
      ]
     },
     "execution_count": 59,
     "metadata": {},
     "output_type": "execute_result"
    }
   ],
   "source": [
    "dict3 = merge(Cars, Cars2)"
   ]
  },
  {
   "cell_type": "markdown",
   "id": "beb51f0e",
   "metadata": {},
   "source": [
    "# Sets"
   ]
  },
  {
   "cell_type": "code",
   "execution_count": 63,
   "id": "86845e2b",
   "metadata": {},
   "outputs": [
    {
     "data": {
      "text/plain": [
       "Set{String} with 4 elements:\n",
       "  \"Nike\"\n",
       "  \"Puma\"\n",
       "  \"Reebok\"\n",
       "  \"Adidas\""
      ]
     },
     "execution_count": 63,
     "metadata": {},
     "output_type": "execute_result"
    }
   ],
   "source": [
    "sports_brands = Set([\"Adidas\",\"Nike\",\"Puma\",\"Reebok\"])"
   ]
  },
  {
   "cell_type": "code",
   "execution_count": 64,
   "id": "6431d917",
   "metadata": {},
   "outputs": [
    {
     "data": {
      "text/plain": [
       "false"
      ]
     },
     "execution_count": 64,
     "metadata": {},
     "output_type": "execute_result"
    }
   ],
   "source": [
    "in(\"HRX\",sports_brands)"
   ]
  },
  {
   "cell_type": "code",
   "execution_count": 65,
   "id": "159c6189",
   "metadata": {},
   "outputs": [
    {
     "data": {
      "text/plain": [
       "true"
      ]
     },
     "execution_count": 65,
     "metadata": {},
     "output_type": "execute_result"
    }
   ],
   "source": [
    "in(\"Nike\",sports_brands)"
   ]
  },
  {
   "cell_type": "code",
   "execution_count": 66,
   "id": "fa5ff648",
   "metadata": {},
   "outputs": [
    {
     "data": {
      "text/plain": [
       "Set{String} with 3 elements:\n",
       "  \"Nike\"\n",
       "  \"HRX\"\n",
       "  \"Adidas\""
      ]
     },
     "execution_count": 66,
     "metadata": {},
     "output_type": "execute_result"
    }
   ],
   "source": [
    "sports_brands_India = Set([\"Adidas\",\"Nike\",\"HRX\"])"
   ]
  },
  {
   "cell_type": "code",
   "execution_count": 67,
   "id": "87b959f7",
   "metadata": {},
   "outputs": [
    {
     "data": {
      "text/plain": [
       "Set{String} with 5 elements:\n",
       "  \"Nike\"\n",
       "  \"Puma\"\n",
       "  \"Reebok\"\n",
       "  \"HRX\"\n",
       "  \"Adidas\""
      ]
     },
     "execution_count": 67,
     "metadata": {},
     "output_type": "execute_result"
    }
   ],
   "source": [
    "union(sports_brands,sports_brands_India)"
   ]
  },
  {
   "cell_type": "code",
   "execution_count": 68,
   "id": "5298c143",
   "metadata": {},
   "outputs": [
    {
     "data": {
      "text/plain": [
       "Set{String} with 2 elements:\n",
       "  \"Nike\"\n",
       "  \"Adidas\""
      ]
     },
     "execution_count": 68,
     "metadata": {},
     "output_type": "execute_result"
    }
   ],
   "source": [
    "intersect(sports_brands,sports_brands_India)"
   ]
  },
  {
   "cell_type": "code",
   "execution_count": 69,
   "id": "caa9452c",
   "metadata": {},
   "outputs": [
    {
     "data": {
      "text/plain": [
       "Set{String} with 2 elements:\n",
       "  \"Puma\"\n",
       "  \"Reebok\""
      ]
     },
     "execution_count": 69,
     "metadata": {},
     "output_type": "execute_result"
    }
   ],
   "source": [
    "setdiff(sports_brands,sports_brands_India)"
   ]
  },
  {
   "cell_type": "code",
   "execution_count": 70,
   "id": "575dfe52",
   "metadata": {},
   "outputs": [
    {
     "data": {
      "text/plain": [
       "Set{String} with 1 element:\n",
       "  \"HRX\""
      ]
     },
     "execution_count": 70,
     "metadata": {},
     "output_type": "execute_result"
    }
   ],
   "source": [
    "setdiff(sports_brands_India,sports_brands)"
   ]
  },
  {
   "cell_type": "code",
   "execution_count": 71,
   "id": "259a8613",
   "metadata": {},
   "outputs": [
    {
     "data": {
      "text/plain": [
       "Set{String} with 5 elements:\n",
       "  \"Nike\"\n",
       "  \"Puma\"\n",
       "  \"Reebok\"\n",
       "  \"HRX\"\n",
       "  \"Adidas\""
      ]
     },
     "execution_count": 71,
     "metadata": {},
     "output_type": "execute_result"
    }
   ],
   "source": [
    "push!(sports_brands,\"HRX\")"
   ]
  },
  {
   "cell_type": "markdown",
   "id": "20d2bd9a",
   "metadata": {},
   "source": [
    "# Date & Time Manipulation"
   ]
  },
  {
   "cell_type": "code",
   "execution_count": 85,
   "id": "31d5667a",
   "metadata": {},
   "outputs": [],
   "source": [
    "#Dates.Time\n",
    "#Dates.Date\n",
    "#Dates.Datetime"
   ]
  },
  {
   "cell_type": "code",
   "execution_count": 73,
   "id": "0e1484ef",
   "metadata": {},
   "outputs": [],
   "source": [
    "using Dates"
   ]
  },
  {
   "cell_type": "code",
   "execution_count": 74,
   "id": "d5270cd4",
   "metadata": {},
   "outputs": [
    {
     "data": {
      "text/plain": [
       "2023-03-05T11:29:15.745"
      ]
     },
     "execution_count": 74,
     "metadata": {},
     "output_type": "execute_result"
    }
   ],
   "source": [
    "now()"
   ]
  },
  {
   "cell_type": "code",
   "execution_count": 75,
   "id": "4d4cfc34",
   "metadata": {},
   "outputs": [
    {
     "data": {
      "text/plain": [
       "2023-03-05"
      ]
     },
     "execution_count": 75,
     "metadata": {},
     "output_type": "execute_result"
    }
   ],
   "source": [
    "today()"
   ]
  },
  {
   "cell_type": "code",
   "execution_count": 76,
   "id": "2195162f",
   "metadata": {},
   "outputs": [
    {
     "data": {
      "text/plain": [
       "2001-08-25"
      ]
     },
     "execution_count": 76,
     "metadata": {},
     "output_type": "execute_result"
    }
   ],
   "source": [
    "birthdate = Date(2001,8,25) #YYYY,MM,DD"
   ]
  },
  {
   "cell_type": "code",
   "execution_count": 77,
   "id": "b460b0cc",
   "metadata": {},
   "outputs": [
    {
     "data": {
      "text/plain": [
       "2001-08-25T10:15:25"
      ]
     },
     "execution_count": 77,
     "metadata": {},
     "output_type": "execute_result"
    }
   ],
   "source": [
    "DateTime(2001,8,25,10,15,25)"
   ]
  },
  {
   "cell_type": "code",
   "execution_count": 78,
   "id": "f190c8a3",
   "metadata": {},
   "outputs": [
    {
     "data": {
      "text/plain": [
       "2023-03-05T06:01:23.429"
      ]
     },
     "execution_count": 78,
     "metadata": {},
     "output_type": "execute_result"
    }
   ],
   "source": [
    "now(UTC)"
   ]
  },
  {
   "cell_type": "code",
   "execution_count": 79,
   "id": "fb72c357",
   "metadata": {},
   "outputs": [
    {
     "data": {
      "text/plain": [
       "2001-08-25T10:15:25"
      ]
     },
     "execution_count": 79,
     "metadata": {},
     "output_type": "execute_result"
    }
   ],
   "source": [
    "birthdate = DateTime(2001,8,25,10,15,25)"
   ]
  },
  {
   "cell_type": "code",
   "execution_count": 80,
   "id": "a9fbb26b",
   "metadata": {},
   "outputs": [
    {
     "data": {
      "text/plain": [
       "2001"
      ]
     },
     "execution_count": 80,
     "metadata": {},
     "output_type": "execute_result"
    }
   ],
   "source": [
    "year(birthdate)"
   ]
  },
  {
   "cell_type": "code",
   "execution_count": 81,
   "id": "bbd0d8bb",
   "metadata": {},
   "outputs": [
    {
     "data": {
      "text/plain": [
       "8"
      ]
     },
     "execution_count": 81,
     "metadata": {},
     "output_type": "execute_result"
    }
   ],
   "source": [
    "month(birthdate)"
   ]
  },
  {
   "cell_type": "code",
   "execution_count": 82,
   "id": "18e987a9",
   "metadata": {},
   "outputs": [
    {
     "data": {
      "text/plain": [
       "25"
      ]
     },
     "execution_count": 82,
     "metadata": {},
     "output_type": "execute_result"
    }
   ],
   "source": [
    "day(birthdate)"
   ]
  },
  {
   "cell_type": "code",
   "execution_count": 83,
   "id": "2b0a4e2e",
   "metadata": {},
   "outputs": [
    {
     "data": {
      "text/plain": [
       "2023"
      ]
     },
     "execution_count": 83,
     "metadata": {},
     "output_type": "execute_result"
    }
   ],
   "source": [
    "year(now())"
   ]
  },
  {
   "cell_type": "code",
   "execution_count": 84,
   "id": "59c6b8ae",
   "metadata": {},
   "outputs": [
    {
     "data": {
      "text/plain": [
       "11"
      ]
     },
     "execution_count": 84,
     "metadata": {},
     "output_type": "execute_result"
    }
   ],
   "source": [
    "hour(now())"
   ]
  },
  {
   "cell_type": "code",
   "execution_count": 86,
   "id": "b17eed82",
   "metadata": {},
   "outputs": [
    {
     "data": {
      "text/plain": [
       "6"
      ]
     },
     "execution_count": 86,
     "metadata": {},
     "output_type": "execute_result"
    }
   ],
   "source": [
    "dayofweek(birthdate)"
   ]
  },
  {
   "cell_type": "code",
   "execution_count": 87,
   "id": "b4bc5429",
   "metadata": {},
   "outputs": [
    {
     "data": {
      "text/plain": [
       "\"Saturday\""
      ]
     },
     "execution_count": 87,
     "metadata": {},
     "output_type": "execute_result"
    }
   ],
   "source": [
    "dayname(birthdate)"
   ]
  },
  {
   "cell_type": "code",
   "execution_count": 88,
   "id": "b6f2bafd",
   "metadata": {},
   "outputs": [
    {
     "data": {
      "text/plain": [
       "56"
      ]
     },
     "execution_count": 88,
     "metadata": {},
     "output_type": "execute_result"
    }
   ],
   "source": [
    "dayofquarter(birthdate)"
   ]
  },
  {
   "cell_type": "code",
   "execution_count": 89,
   "id": "cf417a56",
   "metadata": {},
   "outputs": [
    {
     "data": {
      "text/plain": [
       "31"
      ]
     },
     "execution_count": 89,
     "metadata": {},
     "output_type": "execute_result"
    }
   ],
   "source": [
    "daysinmonth(birthdate)"
   ]
  },
  {
   "cell_type": "code",
   "execution_count": 90,
   "id": "3da1d552",
   "metadata": {},
   "outputs": [
    {
     "data": {
      "text/plain": [
       "2001-08-25"
      ]
     },
     "execution_count": 90,
     "metadata": {},
     "output_type": "execute_result"
    }
   ],
   "source": [
    "birthdate = Date(2001,8,25) #YYYY,MM,DD"
   ]
  },
  {
   "cell_type": "code",
   "execution_count": 91,
   "id": "8bfd8024",
   "metadata": {},
   "outputs": [
    {
     "data": {
      "text/plain": [
       "7862 days"
      ]
     },
     "execution_count": 91,
     "metadata": {},
     "output_type": "execute_result"
    }
   ],
   "source": [
    "today() - birthdate"
   ]
  },
  {
   "cell_type": "code",
   "execution_count": 93,
   "id": "9c1f947d",
   "metadata": {},
   "outputs": [
    {
     "data": {
      "text/plain": [
       "2023-08-05"
      ]
     },
     "execution_count": 93,
     "metadata": {},
     "output_type": "execute_result"
    }
   ],
   "source": [
    "today() + Month(5)"
   ]
  },
  {
   "cell_type": "code",
   "execution_count": 94,
   "id": "4af5bc79",
   "metadata": {},
   "outputs": [
    {
     "data": {
      "text/plain": [
       "dateformat\"dd-mm-yyyy\""
      ]
     },
     "execution_count": 94,
     "metadata": {},
     "output_type": "execute_result"
    }
   ],
   "source": [
    "date_format = DateFormat(\"dd-mm-yyyy\")"
   ]
  },
  {
   "cell_type": "code",
   "execution_count": 95,
   "id": "daa40621",
   "metadata": {},
   "outputs": [
    {
     "data": {
      "text/plain": [
       "\"25-08-2001\""
      ]
     },
     "execution_count": 95,
     "metadata": {},
     "output_type": "execute_result"
    }
   ],
   "source": [
    "Dates.format(birthdate,date_format)"
   ]
  },
  {
   "cell_type": "markdown",
   "id": "4448d1cd",
   "metadata": {},
   "source": [
    "# Conditional Statements"
   ]
  },
  {
   "cell_type": "code",
   "execution_count": 96,
   "id": "180bc3fe",
   "metadata": {},
   "outputs": [
    {
     "data": {
      "text/plain": [
       "10"
      ]
     },
     "execution_count": 96,
     "metadata": {},
     "output_type": "execute_result"
    }
   ],
   "source": [
    "a = 10"
   ]
  },
  {
   "cell_type": "code",
   "execution_count": 97,
   "id": "510cb50c",
   "metadata": {},
   "outputs": [
    {
     "data": {
      "text/plain": [
       "\"No\""
      ]
     },
     "execution_count": 97,
     "metadata": {},
     "output_type": "execute_result"
    }
   ],
   "source": [
    "a > 10 ? \"Yes\" : \"No\""
   ]
  },
  {
   "cell_type": "code",
   "execution_count": 98,
   "id": "119e6322",
   "metadata": {},
   "outputs": [
    {
     "data": {
      "text/plain": [
       "\"No\""
      ]
     },
     "execution_count": 98,
     "metadata": {},
     "output_type": "execute_result"
    }
   ],
   "source": [
    "a < 10 ? \"Yes\" : \"No\""
   ]
  },
  {
   "cell_type": "code",
   "execution_count": 101,
   "id": "982287d1",
   "metadata": {},
   "outputs": [
    {
     "data": {
      "text/plain": [
       "\"Yes\""
      ]
     },
     "execution_count": 101,
     "metadata": {},
     "output_type": "execute_result"
    }
   ],
   "source": [
    "a <= 10 ? \"Yes\" : \"No\""
   ]
  },
  {
   "cell_type": "code",
   "execution_count": 105,
   "id": "002aaa40",
   "metadata": {},
   "outputs": [
    {
     "data": {
      "text/plain": [
       "\"Yes\""
      ]
     },
     "execution_count": 105,
     "metadata": {},
     "output_type": "execute_result"
    }
   ],
   "source": [
    "a >= 10 ? \"Yes\" : \"No\""
   ]
  },
  {
   "cell_type": "code",
   "execution_count": 103,
   "id": "18b508fc",
   "metadata": {},
   "outputs": [
    {
     "data": {
      "text/plain": [
       "20"
      ]
     },
     "execution_count": 103,
     "metadata": {},
     "output_type": "execute_result"
    }
   ],
   "source": [
    "b = 20"
   ]
  },
  {
   "cell_type": "code",
   "execution_count": 107,
   "id": "f9cec038",
   "metadata": {},
   "outputs": [
    {
     "data": {
      "text/plain": [
       "true"
      ]
     },
     "execution_count": 107,
     "metadata": {},
     "output_type": "execute_result"
    }
   ],
   "source": [
    "a >= 10 || b < 20 #OR Condition - If both false then only it will display false"
   ]
  },
  {
   "cell_type": "code",
   "execution_count": 106,
   "id": "b91c701e",
   "metadata": {},
   "outputs": [
    {
     "data": {
      "text/plain": [
       "false"
      ]
     },
     "execution_count": 106,
     "metadata": {},
     "output_type": "execute_result"
    }
   ],
   "source": [
    "a > 10 || b < 20"
   ]
  },
  {
   "cell_type": "code",
   "execution_count": 108,
   "id": "287f3cb6",
   "metadata": {},
   "outputs": [
    {
     "data": {
      "text/plain": [
       "false"
      ]
     },
     "execution_count": 108,
     "metadata": {},
     "output_type": "execute_result"
    }
   ],
   "source": [
    "a >= 10 && b < 20 #AND Operator - Both True Only"
   ]
  },
  {
   "cell_type": "code",
   "execution_count": 109,
   "id": "983824cf",
   "metadata": {},
   "outputs": [
    {
     "data": {
      "text/plain": [
       "true"
      ]
     },
     "execution_count": 109,
     "metadata": {},
     "output_type": "execute_result"
    }
   ],
   "source": [
    "a >=10 && b <=20"
   ]
  },
  {
   "cell_type": "code",
   "execution_count": 112,
   "id": "f41fe1da",
   "metadata": {},
   "outputs": [
    {
     "name": "stdout",
     "output_type": "stream",
     "text": [
      "a is equal to 10"
     ]
    }
   ],
   "source": [
    "if a > 10\n",
    "    print(\"a is greater than 10\")\n",
    "elseif a < 10\n",
    "        print(\"a is less than 10\")\n",
    "    else\n",
    "        print(\"a is equal to 10\")\n",
    "end"
   ]
  },
  {
   "cell_type": "code",
   "execution_count": 114,
   "id": "6b706b05",
   "metadata": {},
   "outputs": [
    {
     "data": {
      "text/plain": [
       "\"India\""
      ]
     },
     "execution_count": 114,
     "metadata": {},
     "output_type": "execute_result"
    }
   ],
   "source": [
    "country = \"India\""
   ]
  },
  {
   "cell_type": "code",
   "execution_count": 117,
   "id": "b76536b4",
   "metadata": {},
   "outputs": [
    {
     "name": "stdout",
     "output_type": "stream",
     "text": [
      "You mentioned India"
     ]
    }
   ],
   "source": [
    "if country == \"India\"\n",
    "    print(\"You mentioned India\")\n",
    "else \n",
    "    print(\"You are in a country or than India\")\n",
    "end"
   ]
  },
  {
   "cell_type": "code",
   "execution_count": 118,
   "id": "1b80ae0e",
   "metadata": {},
   "outputs": [
    {
     "data": {
      "text/plain": [
       "\"US\""
      ]
     },
     "execution_count": 118,
     "metadata": {},
     "output_type": "execute_result"
    }
   ],
   "source": [
    "country = \"US\""
   ]
  },
  {
   "cell_type": "code",
   "execution_count": 119,
   "id": "b969df00",
   "metadata": {},
   "outputs": [
    {
     "name": "stdout",
     "output_type": "stream",
     "text": [
      "You are in a country or than India"
     ]
    }
   ],
   "source": [
    "if country == \"India\"\n",
    "    print(\"You mentioned India\")\n",
    "else \n",
    "    print(\"You are in a country or than India\")\n",
    "end"
   ]
  },
  {
   "cell_type": "markdown",
   "id": "3884d1a2",
   "metadata": {},
   "source": [
    "# Loops"
   ]
  },
  {
   "cell_type": "code",
   "execution_count": 1,
   "id": "07ea5e83",
   "metadata": {},
   "outputs": [
    {
     "name": "stdout",
     "output_type": "stream",
     "text": [
      "AdidasNikePuma"
     ]
    }
   ],
   "source": [
    "for i in [\"Adidas\",\"Nike\",\"Puma\"]\n",
    "    print(i)\n",
    "end"
   ]
  },
  {
   "cell_type": "code",
   "execution_count": 2,
   "id": "937b2c66",
   "metadata": {},
   "outputs": [
    {
     "name": "stdout",
     "output_type": "stream",
     "text": [
      "Adidas Nike Puma "
     ]
    }
   ],
   "source": [
    "for i in [\"Adidas\",\"Nike\",\"Puma\"]\n",
    "    print(i,\" \")\n",
    "end"
   ]
  },
  {
   "cell_type": "code",
   "execution_count": 4,
   "id": "d06ce291",
   "metadata": {},
   "outputs": [
    {
     "name": "stdout",
     "output_type": "stream",
     "text": [
      "Adidas\n",
      "Nike\n",
      "Puma\n"
     ]
    }
   ],
   "source": [
    "for i in [\"Adidas\",\"Nike\",\"Puma\"]\n",
    "    println(i)\n",
    "end"
   ]
  },
  {
   "cell_type": "code",
   "execution_count": 5,
   "id": "e788987d",
   "metadata": {},
   "outputs": [
    {
     "name": "stdout",
     "output_type": "stream",
     "text": [
      "A\n",
      "d\n",
      "i\n",
      "d\n",
      "a\n",
      "s\n"
     ]
    }
   ],
   "source": [
    "for i in \"Adidas\"\n",
    "    println(i)\n",
    "end"
   ]
  },
  {
   "cell_type": "code",
   "execution_count": 7,
   "id": "d56e1f52",
   "metadata": {},
   "outputs": [
    {
     "name": "stdout",
     "output_type": "stream",
     "text": [
      "1\n",
      "2\n",
      "3\n",
      "4\n",
      "5\n"
     ]
    }
   ],
   "source": [
    "for t in (1,2,3,4,5)#tuple\n",
    "    println(t)\n",
    "end"
   ]
  },
  {
   "cell_type": "code",
   "execution_count": 9,
   "id": "6c04bb60",
   "metadata": {},
   "outputs": [
    {
     "name": "stdout",
     "output_type": "stream",
     "text": [
      ":C2 => 2000 :C1 => 1000 "
     ]
    }
   ],
   "source": [
    "for d in Dict(:C1 => 1000, :C2 => 2000)\n",
    "    print(d,\" \")\n",
    "end"
   ]
  },
  {
   "cell_type": "code",
   "execution_count": 15,
   "id": "7b299181",
   "metadata": {},
   "outputs": [
    {
     "data": {
      "text/plain": [
       "Dict{Symbol, Int64} with 2 entries:\n",
       "  :C2 => 2000\n",
       "  :C1 => 1000"
      ]
     },
     "execution_count": 15,
     "metadata": {},
     "output_type": "execute_result"
    }
   ],
   "source": [
    "d1 = Dict(:C1 => 1000, :C2 => 2000)"
   ]
  },
  {
   "cell_type": "code",
   "execution_count": 16,
   "id": "fa146bb9",
   "metadata": {},
   "outputs": [
    {
     "name": "stdout",
     "output_type": "stream",
     "text": [
      ":C2 => 2000 :C1 => 1000 "
     ]
    }
   ],
   "source": [
    "for d in d1\n",
    "    print(d,\" \")\n",
    "end"
   ]
  },
  {
   "cell_type": "code",
   "execution_count": 17,
   "id": "c4934506",
   "metadata": {},
   "outputs": [
    {
     "name": "stdout",
     "output_type": "stream",
     "text": [
      "54231"
     ]
    }
   ],
   "source": [
    "for s in Set([1,2,3,4,5])\n",
    "    print(s)\n",
    "end"
   ]
  },
  {
   "cell_type": "code",
   "execution_count": 18,
   "id": "ac30f9fd",
   "metadata": {},
   "outputs": [
    {
     "name": "stdout",
     "output_type": "stream",
     "text": [
      "1 2 3 4 5 "
     ]
    }
   ],
   "source": [
    "for range in 1:5\n",
    "    print(range,\" \")\n",
    "end"
   ]
  },
  {
   "cell_type": "code",
   "execution_count": 19,
   "id": "577f364f",
   "metadata": {},
   "outputs": [
    {
     "name": "stdout",
     "output_type": "stream",
     "text": [
      "range = 1\n",
      "range = 2\n",
      "range = 3\n",
      "range = 4\n",
      "range = 5\n"
     ]
    }
   ],
   "source": [
    "for range in 1:5\n",
    "    @show range\n",
    "end"
   ]
  },
  {
   "cell_type": "code",
   "execution_count": 20,
   "id": "3903444b",
   "metadata": {},
   "outputs": [
    {
     "name": "stdout",
     "output_type": "stream",
     "text": [
      "246810"
     ]
    }
   ],
   "source": [
    "for x in 1:10\n",
    "    if x % 2 == 0\n",
    "        print(x)\n",
    "    end\n",
    "end"
   ]
  },
  {
   "cell_type": "code",
   "execution_count": 23,
   "id": "16a62f96",
   "metadata": {},
   "outputs": [
    {
     "name": "stdout",
     "output_type": "stream",
     "text": [
      "13579"
     ]
    }
   ],
   "source": [
    "for x in 1:10\n",
    "    if x % 2 != 0\n",
    "        print(x)\n",
    "    end\n",
    "end"
   ]
  },
  {
   "cell_type": "code",
   "execution_count": 21,
   "id": "77c41388",
   "metadata": {},
   "outputs": [
    {
     "name": "stdout",
     "output_type": "stream",
     "text": [
      "10 is multiplication btw 1 and 10\n",
      "20 is multiplication btw 2 and 10\n",
      "30 is multiplication btw 3 and 10\n",
      "40 is multiplication btw 4 and 10\n",
      "50 is multiplication btw 5 and 10\n",
      "60 is multiplication btw 6 and 10\n",
      "70 is multiplication btw 7 and 10\n",
      "80 is multiplication btw 8 and 10\n",
      "90 is multiplication btw 9 and 10\n",
      "100 is multiplication btw 10 and 10\n"
     ]
    }
   ],
   "source": [
    "for i in 1:10\n",
    "    j = i * 10\n",
    "    println(\"$(j) is multiplication btw $(i) and 10\")\n",
    "end"
   ]
  },
  {
   "cell_type": "code",
   "execution_count": 25,
   "id": "08aec4c4",
   "metadata": {},
   "outputs": [
    {
     "name": "stdout",
     "output_type": "stream",
     "text": [
      "1\n",
      "3\n",
      "5\n",
      "7\n",
      "9\n"
     ]
    }
   ],
   "source": [
    "for x in 1:10\n",
    "    if x % 2 == 0\n",
    "        continue\n",
    "    end\n",
    "    println(x)\n",
    "end"
   ]
  },
  {
   "cell_type": "code",
   "execution_count": 26,
   "id": "d2e9a4be",
   "metadata": {},
   "outputs": [
    {
     "name": "stdout",
     "output_type": "stream",
     "text": [
      "2\n",
      "4\n",
      "6\n",
      "8\n",
      "10\n"
     ]
    }
   ],
   "source": [
    "for x in 1:10\n",
    "    if x % 2 != 0\n",
    "        continue\n",
    "    end\n",
    "    println(x)\n",
    "end"
   ]
  },
  {
   "cell_type": "code",
   "execution_count": 27,
   "id": "8d1a0664",
   "metadata": {},
   "outputs": [
    {
     "data": {
      "text/plain": [
       "1"
      ]
     },
     "execution_count": 27,
     "metadata": {},
     "output_type": "execute_result"
    }
   ],
   "source": [
    "a = 1"
   ]
  },
  {
   "cell_type": "code",
   "execution_count": 28,
   "id": "7ec50f5b",
   "metadata": {},
   "outputs": [
    {
     "name": "stdout",
     "output_type": "stream",
     "text": [
      "1\n",
      "2\n",
      "3\n",
      "4\n",
      "5\n",
      "6\n",
      "7\n",
      "8\n",
      "9\n"
     ]
    }
   ],
   "source": [
    "while a < 10\n",
    "    println(a)\n",
    "    a +=1 # a = a + 1\n",
    "end"
   ]
  },
  {
   "cell_type": "markdown",
   "id": "34b1cb4d",
   "metadata": {},
   "source": [
    "# Comprehensions ( Smart Loops)"
   ]
  },
  {
   "cell_type": "code",
   "execution_count": 34,
   "id": "db84feb2",
   "metadata": {},
   "outputs": [
    {
     "data": {
      "text/plain": [
       "10-element Vector{Int64}:\n",
       "  1\n",
       "  2\n",
       "  3\n",
       "  4\n",
       "  5\n",
       "  6\n",
       "  7\n",
       "  8\n",
       "  9\n",
       " 10"
      ]
     },
     "execution_count": 34,
     "metadata": {},
     "output_type": "execute_result"
    }
   ],
   "source": [
    "x = [i for i in 1:10]"
   ]
  },
  {
   "cell_type": "code",
   "execution_count": 35,
   "id": "6818eb0e",
   "metadata": {},
   "outputs": [
    {
     "data": {
      "text/plain": [
       "10-element Vector{Int64}:\n",
       "  2\n",
       "  4\n",
       "  6\n",
       "  8\n",
       " 10\n",
       " 12\n",
       " 14\n",
       " 16\n",
       " 18\n",
       " 20"
      ]
     },
     "execution_count": 35,
     "metadata": {},
     "output_type": "execute_result"
    }
   ],
   "source": [
    "x = [i*2 for i in 1:10]"
   ]
  },
  {
   "cell_type": "code",
   "execution_count": 36,
   "id": "c9b59a2e",
   "metadata": {},
   "outputs": [
    {
     "data": {
      "text/plain": [
       "10-element Vector{Int64}:\n",
       "   1\n",
       "   4\n",
       "   9\n",
       "  16\n",
       "  25\n",
       "  36\n",
       "  49\n",
       "  64\n",
       "  81\n",
       " 100"
      ]
     },
     "execution_count": 36,
     "metadata": {},
     "output_type": "execute_result"
    }
   ],
   "source": [
    "x = [i^2 for i in 1:10]"
   ]
  },
  {
   "cell_type": "code",
   "execution_count": 37,
   "id": "d0891b40",
   "metadata": {},
   "outputs": [
    {
     "data": {
      "text/plain": [
       "Set{Int64} with 10 elements:\n",
       "  5\n",
       "  4\n",
       "  6\n",
       "  7\n",
       "  2\n",
       "  10\n",
       "  9\n",
       "  8\n",
       "  3\n",
       "  1"
      ]
     },
     "execution_count": 37,
     "metadata": {},
     "output_type": "execute_result"
    }
   ],
   "source": [
    "s = Set([i for i in 1:10])"
   ]
  },
  {
   "cell_type": "code",
   "execution_count": 67,
   "id": "89841b9a",
   "metadata": {},
   "outputs": [
    {
     "data": {
      "text/plain": [
       "Dict{String, Int64} with 26 entries:\n",
       "  \"Z\" => 26\n",
       "  \"Q\" => 17\n",
       "  \"W\" => 23\n",
       "  \"T\" => 20\n",
       "  \"C\" => 3\n",
       "  \"P\" => 16\n",
       "  \"V\" => 22\n",
       "  \"L\" => 12\n",
       "  \"O\" => 15\n",
       "  \"B\" => 2\n",
       "  \"M\" => 13\n",
       "  \"N\" => 14\n",
       "  \"H\" => 8\n",
       "  \"A\" => 1\n",
       "  \"X\" => 24\n",
       "  \"D\" => 4\n",
       "  \"G\" => 7\n",
       "  \"E\" => 5\n",
       "  \"Y\" => 25\n",
       "  \"I\" => 9\n",
       "  \"J\" => 10\n",
       "  \"S\" => 19\n",
       "  \"U\" => 21\n",
       "  \"K\" => 11\n",
       "  \"R\" => 18\n",
       "  \"F\" => 6"
      ]
     },
     "execution_count": 67,
     "metadata": {},
     "output_type": "execute_result"
    }
   ],
   "source": [
    "alphabet = Dict(string(Char(x1 + 64)) => x1 for x1 in 1:26) #string(Char(x + 64) is i in this case"
   ]
  },
  {
   "cell_type": "code",
   "execution_count": 47,
   "id": "5ecdb689",
   "metadata": {},
   "outputs": [
    {
     "data": {
      "text/plain": [
       "3×2 Matrix{Tuple{Int64, Int64}}:\n",
       " (1, 1)  (1, 2)\n",
       " (2, 1)  (2, 2)\n",
       " (3, 1)  (3, 2)"
      ]
     },
     "execution_count": 47,
     "metadata": {},
     "output_type": "execute_result"
    }
   ],
   "source": [
    "[(x,y) for x in 1:3, y in 1:2]"
   ]
  },
  {
   "cell_type": "code",
   "execution_count": 48,
   "id": "77df7d97",
   "metadata": {},
   "outputs": [
    {
     "data": {
      "text/plain": [
       "5-element Vector{Int64}:\n",
       "  2\n",
       "  4\n",
       "  6\n",
       "  8\n",
       " 10"
      ]
     },
     "execution_count": 48,
     "metadata": {},
     "output_type": "execute_result"
    }
   ],
   "source": [
    "[x for x in 1:10 if x%2 ==0]"
   ]
  },
  {
   "cell_type": "markdown",
   "id": "6d3c9dbd",
   "metadata": {},
   "source": [
    "# Working with Strings"
   ]
  },
  {
   "cell_type": "code",
   "execution_count": 51,
   "id": "afb9ee0f",
   "metadata": {},
   "outputs": [
    {
     "data": {
      "text/plain": [
       "\"I love Julia\""
      ]
     },
     "execution_count": 51,
     "metadata": {},
     "output_type": "execute_result"
    }
   ],
   "source": [
    "s1 = \"I love Julia\""
   ]
  },
  {
   "cell_type": "code",
   "execution_count": 52,
   "id": "2b205d4b",
   "metadata": {},
   "outputs": [
    {
     "data": {
      "text/plain": [
       "12"
      ]
     },
     "execution_count": 52,
     "metadata": {},
     "output_type": "execute_result"
    }
   ],
   "source": [
    "length(s1)"
   ]
  },
  {
   "cell_type": "code",
   "execution_count": 59,
   "id": "97b4357a",
   "metadata": {},
   "outputs": [
    {
     "data": {
      "text/plain": [
       "12"
      ]
     },
     "execution_count": 59,
     "metadata": {},
     "output_type": "execute_result"
    }
   ],
   "source": [
    "lastindex(s1) # less computation than length, more efficient"
   ]
  },
  {
   "cell_type": "code",
   "execution_count": 60,
   "id": "68ea50e8",
   "metadata": {},
   "outputs": [
    {
     "data": {
      "text/plain": [
       "1"
      ]
     },
     "execution_count": 60,
     "metadata": {},
     "output_type": "execute_result"
    }
   ],
   "source": [
    "firstindex(s1)"
   ]
  },
  {
   "cell_type": "code",
   "execution_count": 61,
   "id": "e9668ab0",
   "metadata": {},
   "outputs": [
    {
     "data": {
      "text/plain": [
       "'o': ASCII/Unicode U+006F (category Ll: Letter, lowercase)"
      ]
     },
     "execution_count": 61,
     "metadata": {},
     "output_type": "execute_result"
    }
   ],
   "source": [
    "s1[4]"
   ]
  },
  {
   "cell_type": "code",
   "execution_count": 62,
   "id": "e74e3eaa",
   "metadata": {},
   "outputs": [
    {
     "data": {
      "text/plain": [
       "'l': ASCII/Unicode U+006C (category Ll: Letter, lowercase)"
      ]
     },
     "execution_count": 62,
     "metadata": {},
     "output_type": "execute_result"
    }
   ],
   "source": [
    "s1[10]"
   ]
  },
  {
   "cell_type": "code",
   "execution_count": 64,
   "id": "d7a59a3e",
   "metadata": {},
   "outputs": [
    {
     "data": {
      "text/plain": [
       "\"love\""
      ]
     },
     "execution_count": 64,
     "metadata": {},
     "output_type": "execute_result"
    }
   ],
   "source": [
    "s1[3:6]"
   ]
  },
  {
   "cell_type": "code",
   "execution_count": 65,
   "id": "3741ba30",
   "metadata": {},
   "outputs": [
    {
     "data": {
      "text/plain": [
       "\"Julia\""
      ]
     },
     "execution_count": 65,
     "metadata": {},
     "output_type": "execute_result"
    }
   ],
   "source": [
    "s1[8:12]"
   ]
  },
  {
   "cell_type": "code",
   "execution_count": 66,
   "id": "dd2493f4",
   "metadata": {},
   "outputs": [
    {
     "data": {
      "text/plain": [
       "true"
      ]
     },
     "execution_count": 66,
     "metadata": {},
     "output_type": "execute_result"
    }
   ],
   "source": [
    "isascii(s1)"
   ]
  },
  {
   "cell_type": "code",
   "execution_count": 70,
   "id": "1353de78",
   "metadata": {},
   "outputs": [
    {
     "data": {
      "text/plain": [
       "\"LoveJulia\""
      ]
     },
     "execution_count": 70,
     "metadata": {},
     "output_type": "execute_result"
    }
   ],
   "source": [
    "\"Love\" * \"Julia\""
   ]
  },
  {
   "cell_type": "code",
   "execution_count": 71,
   "id": "846490e7",
   "metadata": {},
   "outputs": [
    {
     "data": {
      "text/plain": [
       "\"Love Julia\""
      ]
     },
     "execution_count": 71,
     "metadata": {},
     "output_type": "execute_result"
    }
   ],
   "source": [
    "\"Love\" * \" Julia\""
   ]
  },
  {
   "cell_type": "code",
   "execution_count": 74,
   "id": "11d0456d",
   "metadata": {},
   "outputs": [
    {
     "data": {
      "text/plain": [
       "\"LoveLoveLoveLoveLove\""
      ]
     },
     "execution_count": 74,
     "metadata": {},
     "output_type": "execute_result"
    }
   ],
   "source": [
    "\"Love\" ^ 5"
   ]
  },
  {
   "cell_type": "code",
   "execution_count": 75,
   "id": "03369dca",
   "metadata": {},
   "outputs": [
    {
     "data": {
      "text/plain": [
       "\" Love Love Love Love Love\""
      ]
     },
     "execution_count": 75,
     "metadata": {},
     "output_type": "execute_result"
    }
   ],
   "source": [
    "\" Love\" ^ 5"
   ]
  },
  {
   "cell_type": "code",
   "execution_count": 77,
   "id": "00217dd9",
   "metadata": {},
   "outputs": [
    {
     "data": {
      "text/plain": [
       "\"LoveJulia\""
      ]
     },
     "execution_count": 77,
     "metadata": {},
     "output_type": "execute_result"
    }
   ],
   "source": [
    "string(\"Love\",\"Julia\")"
   ]
  },
  {
   "cell_type": "code",
   "execution_count": 78,
   "id": "b48f7f49",
   "metadata": {},
   "outputs": [
    {
     "data": {
      "text/plain": [
       "3-element Vector{SubString{String}}:\n",
       " \"I\"\n",
       " \"love\"\n",
       " \"Julia\""
      ]
     },
     "execution_count": 78,
     "metadata": {},
     "output_type": "execute_result"
    }
   ],
   "source": [
    "split(s1)"
   ]
  },
  {
   "cell_type": "code",
   "execution_count": 79,
   "id": "60749a33",
   "metadata": {},
   "outputs": [
    {
     "data": {
      "text/plain": [
       "2-element Vector{SubString{String}}:\n",
       " \"I lov\"\n",
       " \" Julia\""
      ]
     },
     "execution_count": 79,
     "metadata": {},
     "output_type": "execute_result"
    }
   ],
   "source": [
    "split(s1,\"e\")"
   ]
  },
  {
   "cell_type": "code",
   "execution_count": 80,
   "id": "ab8c8664",
   "metadata": {},
   "outputs": [
    {
     "data": {
      "text/plain": [
       "2-element Vector{SubString{String}}:\n",
       " \"I \"\n",
       " \" Julia\""
      ]
     },
     "execution_count": 80,
     "metadata": {},
     "output_type": "execute_result"
    }
   ],
   "source": [
    "split(s1,\"love\")"
   ]
  },
  {
   "cell_type": "code",
   "execution_count": 81,
   "id": "d2d6037e",
   "metadata": {},
   "outputs": [
    {
     "data": {
      "text/plain": [
       "12-element Vector{SubString{String}}:\n",
       " \"I\"\n",
       " \" \"\n",
       " \"l\"\n",
       " \"o\"\n",
       " \"v\"\n",
       " \"e\"\n",
       " \" \"\n",
       " \"J\"\n",
       " \"u\"\n",
       " \"l\"\n",
       " \"i\"\n",
       " \"a\""
      ]
     },
     "execution_count": 81,
     "metadata": {},
     "output_type": "execute_result"
    }
   ],
   "source": [
    "split(s1,\"\")"
   ]
  },
  {
   "cell_type": "code",
   "execution_count": 82,
   "id": "99b61559",
   "metadata": {},
   "outputs": [
    {
     "data": {
      "text/plain": [
       "100"
      ]
     },
     "execution_count": 82,
     "metadata": {},
     "output_type": "execute_result"
    }
   ],
   "source": [
    "parse(Int64,\"100\") #string - dataframr or object "
   ]
  },
  {
   "cell_type": "code",
   "execution_count": 87,
   "id": "ebd93890",
   "metadata": {},
   "outputs": [
    {
     "data": {
      "text/plain": [
       "100.5"
      ]
     },
     "execution_count": 87,
     "metadata": {},
     "output_type": "execute_result"
    }
   ],
   "source": [
    "parse(Float64,\"100.5\")"
   ]
  },
  {
   "cell_type": "code",
   "execution_count": 88,
   "id": "8edafc6c",
   "metadata": {},
   "outputs": [
    {
     "data": {
      "text/plain": [
       "true"
      ]
     },
     "execution_count": 88,
     "metadata": {},
     "output_type": "execute_result"
    }
   ],
   "source": [
    "in('I',s1)"
   ]
  },
  {
   "cell_type": "code",
   "execution_count": 89,
   "id": "3b2616a0",
   "metadata": {},
   "outputs": [
    {
     "data": {
      "text/plain": [
       "true"
      ]
     },
     "execution_count": 89,
     "metadata": {},
     "output_type": "execute_result"
    }
   ],
   "source": [
    "occursin(\"love\",s1)"
   ]
  },
  {
   "cell_type": "code",
   "execution_count": 90,
   "id": "b456c54d",
   "metadata": {},
   "outputs": [
    {
     "data": {
      "text/plain": [
       "3:3"
      ]
     },
     "execution_count": 90,
     "metadata": {},
     "output_type": "execute_result"
    }
   ],
   "source": [
    "findfirst(\"l\",s1)"
   ]
  },
  {
   "cell_type": "code",
   "execution_count": 91,
   "id": "3e9b7671",
   "metadata": {},
   "outputs": [
    {
     "data": {
      "text/plain": [
       "3:6"
      ]
     },
     "execution_count": 91,
     "metadata": {},
     "output_type": "execute_result"
    }
   ],
   "source": [
    "findfirst(\"love\",s1)"
   ]
  },
  {
   "cell_type": "code",
   "execution_count": 93,
   "id": "05c8089a",
   "metadata": {},
   "outputs": [
    {
     "data": {
      "text/plain": [
       "\"I adore Julia\""
      ]
     },
     "execution_count": 93,
     "metadata": {},
     "output_type": "execute_result"
    }
   ],
   "source": [
    "replace(s1,\"love\" => \"adore\")"
   ]
  },
  {
   "cell_type": "code",
   "execution_count": 94,
   "id": "0ef4a0cf",
   "metadata": {},
   "outputs": [
    {
     "data": {
      "text/plain": [
       "\"I love Julia\""
      ]
     },
     "execution_count": 94,
     "metadata": {},
     "output_type": "execute_result"
    }
   ],
   "source": [
    "s1"
   ]
  },
  {
   "cell_type": "code",
   "execution_count": 95,
   "id": "9f78cb90",
   "metadata": {},
   "outputs": [
    {
     "data": {
      "text/plain": [
       "\"I adore Julia\""
      ]
     },
     "execution_count": 95,
     "metadata": {},
     "output_type": "execute_result"
    }
   ],
   "source": [
    "s1 = replace(s1,\"love\" => \"adore\")"
   ]
  },
  {
   "cell_type": "code",
   "execution_count": 96,
   "id": "07a168da",
   "metadata": {},
   "outputs": [
    {
     "data": {
      "text/plain": [
       "\"I adore Julia\""
      ]
     },
     "execution_count": 96,
     "metadata": {},
     "output_type": "execute_result"
    }
   ],
   "source": [
    "s1"
   ]
  },
  {
   "cell_type": "markdown",
   "id": "87627dea",
   "metadata": {},
   "source": [
    "# Functions"
   ]
  },
  {
   "cell_type": "code",
   "execution_count": 97,
   "id": "3bb98a9c",
   "metadata": {},
   "outputs": [
    {
     "data": {
      "text/plain": [
       "f (generic function with 1 method)"
      ]
     },
     "execution_count": 97,
     "metadata": {},
     "output_type": "execute_result"
    }
   ],
   "source": [
    "f(x) = x + x"
   ]
  },
  {
   "cell_type": "code",
   "execution_count": 98,
   "id": "c9655ad3",
   "metadata": {},
   "outputs": [
    {
     "data": {
      "text/plain": [
       "4"
      ]
     },
     "execution_count": 98,
     "metadata": {},
     "output_type": "execute_result"
    }
   ],
   "source": [
    "f(2)"
   ]
  },
  {
   "cell_type": "code",
   "execution_count": 99,
   "id": "663da6ca",
   "metadata": {},
   "outputs": [
    {
     "data": {
      "text/plain": [
       "f (generic function with 1 method)"
      ]
     },
     "execution_count": 99,
     "metadata": {},
     "output_type": "execute_result"
    }
   ],
   "source": [
    "f(x) = x*x"
   ]
  },
  {
   "cell_type": "code",
   "execution_count": 100,
   "id": "caa25bc5",
   "metadata": {},
   "outputs": [
    {
     "data": {
      "text/plain": [
       "16129"
      ]
     },
     "execution_count": 100,
     "metadata": {},
     "output_type": "execute_result"
    }
   ],
   "source": [
    "f(127)"
   ]
  },
  {
   "cell_type": "code",
   "execution_count": 101,
   "id": "22dd6626",
   "metadata": {},
   "outputs": [
    {
     "data": {
      "text/plain": [
       "f (generic function with 2 methods)"
      ]
     },
     "execution_count": 101,
     "metadata": {},
     "output_type": "execute_result"
    }
   ],
   "source": [
    "f(x,y) = x*2 - y"
   ]
  },
  {
   "cell_type": "code",
   "execution_count": 102,
   "id": "d84eac82",
   "metadata": {},
   "outputs": [
    {
     "data": {
      "text/plain": [
       "1"
      ]
     },
     "execution_count": 102,
     "metadata": {},
     "output_type": "execute_result"
    }
   ],
   "source": [
    "f(2,3)"
   ]
  },
  {
   "cell_type": "code",
   "execution_count": 108,
   "id": "4e511846",
   "metadata": {},
   "outputs": [
    {
     "data": {
      "text/plain": [
       "multiply (generic function with 1 method)"
      ]
     },
     "execution_count": 108,
     "metadata": {},
     "output_type": "execute_result"
    }
   ],
   "source": [
    "function multiply(x,y)\n",
    "    return x * y\n",
    "end"
   ]
  },
  {
   "cell_type": "code",
   "execution_count": 109,
   "id": "28454040",
   "metadata": {},
   "outputs": [
    {
     "data": {
      "text/plain": [
       "125"
      ]
     },
     "execution_count": 109,
     "metadata": {},
     "output_type": "execute_result"
    }
   ],
   "source": [
    "multiply(25,5)"
   ]
  },
  {
   "cell_type": "code",
   "execution_count": 110,
   "id": "433a7f51",
   "metadata": {},
   "outputs": [
    {
     "data": {
      "text/plain": [
       "convert_meter_to_inch (generic function with 1 method)"
      ]
     },
     "execution_count": 110,
     "metadata": {},
     "output_type": "execute_result"
    }
   ],
   "source": [
    "function convert_meter_to_inch(val)\n",
    "    return val * 39.37\n",
    "end"
   ]
  },
  {
   "cell_type": "code",
   "execution_count": 111,
   "id": "368d2cad",
   "metadata": {},
   "outputs": [
    {
     "data": {
      "text/plain": [
       "59.05499999999999"
      ]
     },
     "execution_count": 111,
     "metadata": {},
     "output_type": "execute_result"
    }
   ],
   "source": [
    "convert_meter_to_inch(1.5)"
   ]
  },
  {
   "cell_type": "code",
   "execution_count": 112,
   "id": "701191ed",
   "metadata": {},
   "outputs": [
    {
     "data": {
      "text/plain": [
       "BMI (generic function with 1 method)"
      ]
     },
     "execution_count": 112,
     "metadata": {},
     "output_type": "execute_result"
    }
   ],
   "source": [
    "function BMI(w,h)\n",
    "    return w/abs2(h)  #abs2(x) -- square of x\n",
    "end"
   ]
  },
  {
   "cell_type": "code",
   "execution_count": 113,
   "id": "b61c3823",
   "metadata": {},
   "outputs": [
    {
     "data": {
      "text/plain": [
       "24.977043158861342"
      ]
     },
     "execution_count": 113,
     "metadata": {},
     "output_type": "execute_result"
    }
   ],
   "source": [
    "BMI(68,1.65)"
   ]
  },
  {
   "cell_type": "code",
   "execution_count": 136,
   "id": "155fa41a",
   "metadata": {},
   "outputs": [
    {
     "data": {
      "text/plain": [
       "convert_meter_to_inch (generic function with 2 methods)"
      ]
     },
     "execution_count": 136,
     "metadata": {},
     "output_type": "execute_result"
    }
   ],
   "source": [
    "function convert_meter_to_inch(val, name = \"Patron\")\n",
    "    if name == \"Patron\"\n",
    "        println(\"Value for name is not supplied\")\n",
    "    else\n",
    "        println(\"Hi..\",name,\" The conversion value is \")\n",
    "    end\n",
    "        return val * 39.37\n",
    "end"
   ]
  },
  {
   "cell_type": "code",
   "execution_count": 137,
   "id": "7c63b91a",
   "metadata": {},
   "outputs": [
    {
     "name": "stdout",
     "output_type": "stream",
     "text": [
      "Hi..Akash The conversion value is \n"
     ]
    },
    {
     "data": {
      "text/plain": [
       "90.55099999999999"
      ]
     },
     "execution_count": 137,
     "metadata": {},
     "output_type": "execute_result"
    }
   ],
   "source": [
    "convert_meter_to_inch(2.3,\"Akash\")"
   ]
  },
  {
   "cell_type": "code",
   "execution_count": 138,
   "id": "550dd4c3",
   "metadata": {},
   "outputs": [
    {
     "data": {
      "text/plain": [
       "convert_meter_to_inch (generic function with 2 methods)"
      ]
     },
     "execution_count": 138,
     "metadata": {},
     "output_type": "execute_result"
    }
   ],
   "source": [
    "function convert_meter_to_inch(val, name = \"\")\n",
    "    if name == \"\"\n",
    "        println(\"Value for name is not supplied\")\n",
    "    else\n",
    "        println(\"Hi..\",name,\" The conversion value is \")\n",
    "    end\n",
    "        return val * 39.37\n",
    "end"
   ]
  },
  {
   "cell_type": "code",
   "execution_count": 139,
   "id": "398a7f1e",
   "metadata": {},
   "outputs": [
    {
     "name": "stdout",
     "output_type": "stream",
     "text": [
      "Value for name is not supplied\n"
     ]
    },
    {
     "data": {
      "text/plain": [
       "90.55099999999999"
      ]
     },
     "execution_count": 139,
     "metadata": {},
     "output_type": "execute_result"
    }
   ],
   "source": [
    "convert_meter_to_inch(2.3)"
   ]
  },
  {
   "cell_type": "markdown",
   "id": "cba1ed52",
   "metadata": {},
   "source": [
    "# Formatting Numbers and Strings"
   ]
  },
  {
   "cell_type": "code",
   "execution_count": 140,
   "id": "060c2f15",
   "metadata": {},
   "outputs": [],
   "source": [
    "using Printf"
   ]
  },
  {
   "cell_type": "code",
   "execution_count": 141,
   "id": "38a8ae2e",
   "metadata": {},
   "outputs": [
    {
     "data": {
      "text/plain": [
       "\"Akash\""
      ]
     },
     "execution_count": 141,
     "metadata": {},
     "output_type": "execute_result"
    }
   ],
   "source": [
    "name = \"Akash\""
   ]
  },
  {
   "cell_type": "code",
   "execution_count": 143,
   "id": "04980832",
   "metadata": {},
   "outputs": [],
   "source": [
    "name = \"Akash\";"
   ]
  },
  {
   "cell_type": "code",
   "execution_count": 144,
   "id": "c76822a1",
   "metadata": {},
   "outputs": [
    {
     "name": "stdout",
     "output_type": "stream",
     "text": [
      "Hello Akash"
     ]
    }
   ],
   "source": [
    "@printf(\"Hello %s\",name)"
   ]
  },
  {
   "cell_type": "code",
   "execution_count": 145,
   "id": "695ad782",
   "metadata": {},
   "outputs": [
    {
     "data": {
      "text/plain": [
       "\"Hello Akash\""
      ]
     },
     "execution_count": 145,
     "metadata": {},
     "output_type": "execute_result"
    }
   ],
   "source": [
    "@sprintf(\"Hello %s\",name)"
   ]
  },
  {
   "cell_type": "code",
   "execution_count": 149,
   "id": "7ed23b54",
   "metadata": {},
   "outputs": [
    {
     "name": "stdout",
     "output_type": "stream",
     "text": [
      "i"
     ]
    }
   ],
   "source": [
    "ch = 'i'\n",
    "@printf(\"%c\",ch)"
   ]
  },
  {
   "cell_type": "code",
   "execution_count": 150,
   "id": "d71df62b",
   "metadata": {},
   "outputs": [
    {
     "name": "stdout",
     "output_type": "stream",
     "text": [
      "Value of x is 100"
     ]
    }
   ],
   "source": [
    "x = 100\n",
    "@printf(\"Value of x is %d\",x)"
   ]
  },
  {
   "cell_type": "code",
   "execution_count": 151,
   "id": "9ecb8079",
   "metadata": {},
   "outputs": [
    {
     "data": {
      "text/plain": [
       "100.5"
      ]
     },
     "execution_count": 151,
     "metadata": {},
     "output_type": "execute_result"
    }
   ],
   "source": [
    "y = 100.50"
   ]
  },
  {
   "cell_type": "code",
   "execution_count": 153,
   "id": "176dd31a",
   "metadata": {},
   "outputs": [
    {
     "name": "stdout",
     "output_type": "stream",
     "text": [
      "Value of y is 100.500000"
     ]
    }
   ],
   "source": [
    "@printf(\"Value of y is %f\",y)"
   ]
  },
  {
   "cell_type": "code",
   "execution_count": 154,
   "id": "e84c9e4d",
   "metadata": {},
   "outputs": [
    {
     "name": "stdout",
     "output_type": "stream",
     "text": [
      "Value of y is 100.50"
     ]
    }
   ],
   "source": [
    "@printf(\"Value of y is %.2f\",y)"
   ]
  },
  {
   "cell_type": "code",
   "execution_count": 158,
   "id": "167d3da5",
   "metadata": {},
   "outputs": [
    {
     "name": "stdout",
     "output_type": "stream",
     "text": [
      "2.468342e+10"
     ]
    }
   ],
   "source": [
    "z = 24683417865\n",
    "@printf(\"%e\",z)"
   ]
  },
  {
   "cell_type": "code",
   "execution_count": 159,
   "id": "a103a5c4",
   "metadata": {},
   "outputs": [
    {
     "name": "stdout",
     "output_type": "stream",
     "text": [
      "2.468e+10"
     ]
    }
   ],
   "source": [
    "z = 24683417865\n",
    "@printf(\"%.3e\",z)"
   ]
  },
  {
   "cell_type": "code",
   "execution_count": null,
   "id": "e736eecf",
   "metadata": {},
   "outputs": [],
   "source": []
  }
 ],
 "metadata": {
  "kernelspec": {
   "display_name": "Julia 1.8.5",
   "language": "julia",
   "name": "julia-1.8"
  },
  "language_info": {
   "file_extension": ".jl",
   "mimetype": "application/julia",
   "name": "julia",
   "version": "1.8.5"
  }
 },
 "nbformat": 4,
 "nbformat_minor": 5
}
